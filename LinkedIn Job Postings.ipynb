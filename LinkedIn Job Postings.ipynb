{
 "cells": [
  {
   "cell_type": "markdown",
   "id": "ced4adbb",
   "metadata": {
    "papermill": {
     "duration": 0.015833,
     "end_time": "2023-12-09T08:25:56.967446",
     "exception": false,
     "start_time": "2023-12-09T08:25:56.951613",
     "status": "completed"
    },
    "tags": []
   },
   "source": [
    "# LinkedIn Job Postings Data Analysis Report\n",
    "\n",
    "In this report, we conduct a comprehensive analysis of the LinkedIn Job Postings dataset, aiming to derive valuable insights into salaries, top companies, and marketing trends. The analysis encompasses data cleaning, salary exploration, and marketing insights, providing a holistic view of the job postings landscape. Let's delve into the key findings and observations from our exploration."
   ]
  },
  {
   "cell_type": "markdown",
   "id": "e24e3cb3",
   "metadata": {
    "papermill": {
     "duration": 0.015347,
     "end_time": "2023-12-09T08:25:56.998664",
     "exception": false,
     "start_time": "2023-12-09T08:25:56.983317",
     "status": "completed"
    },
    "tags": []
   },
   "source": [
    "### LinkedInJobs_MLDataset Data Dictionary \n",
    "\n",
    "- Co_Nm / Company Name, dType Object\n",
    "- Co_Pg_Lstd / Company Page Listed, dType Bool\n",
    "- Emp_Cnt / Company Employee Count, dType int64\n",
    "- Flw_Cnt / Company Follower Count, dType int64\n",
    "- Job_Ttl / Job Title, dType Object\n",
    "- Job_Desc / Job Description, dtype Object\n",
    "- Is_Supvsr / Is Post a Supervisor Position (Calculated), dType Bool\n",
    "- max_sal / Maximum Salary, dtype Float64\n",
    "- med_sal / Median Salary, dtype Float64\n",
    "- min_sal / Minimum Salary, dtype Float64\n",
    "- py_prd / Pay Period, dtype Category {Not Listed, YEARLY, HOURLY, MONTHLY, Unpaid, WEEKLY, ONCE}\n",
    "- py_lstd / Pay Listed (Calculated), dtype Bool \n",
    "- wrk_typ / Work Type, dtype Category {Full-time, Contract, Part-time, Temporary, Internship, Other, Volunteer}\n",
    "- loc / Job Location, dtype Object\n",
    "- st_code / Job State Code (Calculated), dtype Object\n",
    "- is_remote / Is Job Remote (Calculated), dtype Bool\n",
    "- views / Number of Posting Views, dtype int64\n",
    "- app_typ / Application Type, dtype Category {Offsite Apply, SimpleOnSiteApply, ComplexOnSiteApply}\n",
    "- app_is_off / Is Application Offsite (Calculated), dtype Bool\n",
    "- xp_lvl / Experience Level, dtype Category {Mid-Senior level, Not Listed, Entry level, Associate, Director, Internship, Executive}\n",
    "- domain / Posting Domain, dtype Object\n",
    "- has_post_domain / Has Posting Domain (Calculated), dtype Bool\n",
    "- is_sponsored / Is Sponsored, dtype Bool\n",
    "- base_comp / Has Base Compensation, dtype Bool"
   ]
  },
  {
   "cell_type": "code",
   "execution_count": 1,
   "id": "f4756474",
   "metadata": {
    "execution": {
     "iopub.execute_input": "2023-12-09T08:25:57.032188Z",
     "iopub.status.busy": "2023-12-09T08:25:57.031582Z",
     "iopub.status.idle": "2023-12-09T08:25:57.486962Z",
     "shell.execute_reply": "2023-12-09T08:25:57.485800Z"
    },
    "papermill": {
     "duration": 0.475908,
     "end_time": "2023-12-09T08:25:57.489973",
     "exception": false,
     "start_time": "2023-12-09T08:25:57.014065",
     "status": "completed"
    },
    "tags": []
   },
   "outputs": [],
   "source": [
    "import pandas as pd\n",
    "import numpy as np \n",
    "import matplotlib.pyplot as plt"
   ]
  },
  {
   "cell_type": "code",
   "execution_count": 2,
   "id": "c9c98099",
   "metadata": {
    "execution": {
     "iopub.execute_input": "2023-12-09T08:25:57.522621Z",
     "iopub.status.busy": "2023-12-09T08:25:57.522049Z",
     "iopub.status.idle": "2023-12-09T08:26:01.653554Z",
     "shell.execute_reply": "2023-12-09T08:26:01.652033Z"
    },
    "papermill": {
     "duration": 4.151731,
     "end_time": "2023-12-09T08:26:01.657172",
     "exception": false,
     "start_time": "2023-12-09T08:25:57.505441",
     "status": "completed"
    },
    "tags": []
   },
   "outputs": [],
   "source": [
    "# Reading LinkedInJobs dataset\n",
    "df=pd.read_csv(r\"/kaggle/input/linkedin-jobs-machine-learning-data-set/LinkedInJobs_MLDataset.csv\",sep=\",\")"
   ]
  },
  {
   "cell_type": "code",
   "execution_count": 3,
   "id": "6e6ab1fd",
   "metadata": {
    "execution": {
     "iopub.execute_input": "2023-12-09T08:26:01.693371Z",
     "iopub.status.busy": "2023-12-09T08:26:01.692943Z",
     "iopub.status.idle": "2023-12-09T08:26:01.702143Z",
     "shell.execute_reply": "2023-12-09T08:26:01.700773Z"
    },
    "papermill": {
     "duration": 0.030484,
     "end_time": "2023-12-09T08:26:01.705071",
     "exception": false,
     "start_time": "2023-12-09T08:26:01.674587",
     "status": "completed"
    },
    "tags": []
   },
   "outputs": [
    {
     "data": {
      "text/plain": [
       "(33246, 24)"
      ]
     },
     "execution_count": 3,
     "metadata": {},
     "output_type": "execute_result"
    }
   ],
   "source": [
    "df.shape"
   ]
  },
  {
   "cell_type": "code",
   "execution_count": 4,
   "id": "e606b35a",
   "metadata": {
    "execution": {
     "iopub.execute_input": "2023-12-09T08:26:01.739119Z",
     "iopub.status.busy": "2023-12-09T08:26:01.738738Z",
     "iopub.status.idle": "2023-12-09T08:26:01.746646Z",
     "shell.execute_reply": "2023-12-09T08:26:01.745382Z"
    },
    "papermill": {
     "duration": 0.02811,
     "end_time": "2023-12-09T08:26:01.749538",
     "exception": false,
     "start_time": "2023-12-09T08:26:01.721428",
     "status": "completed"
    },
    "tags": []
   },
   "outputs": [
    {
     "data": {
      "text/plain": [
       "Index(['Co_Nm', 'Co_Pg_Lstd', 'Emp_Cnt', 'Flw_Cnt', 'Job_Ttl', 'Job_Desc',\n",
       "       'Is_Supvsr', 'max_sal', 'med_sal', 'min_sal', 'py_prd', 'py_lstd',\n",
       "       'wrk_typ', 'loc', 'st_code', 'is_remote', 'views', 'app_typ',\n",
       "       'app_is_off', 'xp_lvl', 'domain', 'has_post_domain', 'is_sponsored',\n",
       "       'base_comp'],\n",
       "      dtype='object')"
      ]
     },
     "execution_count": 4,
     "metadata": {},
     "output_type": "execute_result"
    }
   ],
   "source": [
    "df.columns"
   ]
  },
  {
   "cell_type": "markdown",
   "id": "7ef6e1f5",
   "metadata": {
    "papermill": {
     "duration": 0.017726,
     "end_time": "2023-12-09T08:26:01.784261",
     "exception": false,
     "start_time": "2023-12-09T08:26:01.766535",
     "status": "completed"
    },
    "tags": []
   },
   "source": [
    "## Data Cleaning"
   ]
  },
  {
   "cell_type": "code",
   "execution_count": 5,
   "id": "6e34175a",
   "metadata": {
    "execution": {
     "iopub.execute_input": "2023-12-09T08:26:01.818286Z",
     "iopub.status.busy": "2023-12-09T08:26:01.817813Z",
     "iopub.status.idle": "2023-12-09T08:26:01.851689Z",
     "shell.execute_reply": "2023-12-09T08:26:01.850411Z"
    },
    "papermill": {
     "duration": 0.054449,
     "end_time": "2023-12-09T08:26:01.854509",
     "exception": false,
     "start_time": "2023-12-09T08:26:01.800060",
     "status": "completed"
    },
    "tags": []
   },
   "outputs": [],
   "source": [
    "# Drop the specified columns\n",
    "columns_to_drop = ['Co_Pg_Lstd','Job_Desc','has_post_domain','py_lstd', 'app_is_off','domain']\n",
    "df = df.drop(columns=columns_to_drop, axis=1)"
   ]
  },
  {
   "cell_type": "code",
   "execution_count": 6,
   "id": "b431778f",
   "metadata": {
    "execution": {
     "iopub.execute_input": "2023-12-09T08:26:01.888714Z",
     "iopub.status.busy": "2023-12-09T08:26:01.888309Z",
     "iopub.status.idle": "2023-12-09T08:26:01.927203Z",
     "shell.execute_reply": "2023-12-09T08:26:01.925976Z"
    },
    "papermill": {
     "duration": 0.059262,
     "end_time": "2023-12-09T08:26:01.929623",
     "exception": false,
     "start_time": "2023-12-09T08:26:01.870361",
     "status": "completed"
    },
    "tags": []
   },
   "outputs": [
    {
     "data": {
      "text/plain": [
       "Co_Nm           4\n",
       "Emp_Cnt         0\n",
       "Flw_Cnt         0\n",
       "Job_Ttl         0\n",
       "Is_Supvsr       0\n",
       "max_sal         0\n",
       "med_sal         0\n",
       "min_sal         0\n",
       "py_prd          0\n",
       "wrk_typ         0\n",
       "loc             0\n",
       "st_code         0\n",
       "is_remote       0\n",
       "views           0\n",
       "app_typ         0\n",
       "xp_lvl          0\n",
       "is_sponsored    0\n",
       "base_comp       0\n",
       "dtype: int64"
      ]
     },
     "execution_count": 6,
     "metadata": {},
     "output_type": "execute_result"
    }
   ],
   "source": [
    "df.isnull().sum()"
   ]
  },
  {
   "cell_type": "markdown",
   "id": "a5262081",
   "metadata": {
    "papermill": {
     "duration": 0.016317,
     "end_time": "2023-12-09T08:26:01.961792",
     "exception": false,
     "start_time": "2023-12-09T08:26:01.945475",
     "status": "completed"
    },
    "tags": []
   },
   "source": [
    "here we can see that we have null values at company name we will fill them with \"no company name\""
   ]
  },
  {
   "cell_type": "code",
   "execution_count": 7,
   "id": "bcd8a66c",
   "metadata": {
    "execution": {
     "iopub.execute_input": "2023-12-09T08:26:01.996194Z",
     "iopub.status.busy": "2023-12-09T08:26:01.995779Z",
     "iopub.status.idle": "2023-12-09T08:26:02.007846Z",
     "shell.execute_reply": "2023-12-09T08:26:02.006577Z"
    },
    "papermill": {
     "duration": 0.032599,
     "end_time": "2023-12-09T08:26:02.010837",
     "exception": false,
     "start_time": "2023-12-09T08:26:01.978238",
     "status": "completed"
    },
    "tags": []
   },
   "outputs": [],
   "source": [
    "df['Co_Nm'].fillna('No Company Name',inplace=True)"
   ]
  },
  {
   "cell_type": "code",
   "execution_count": 8,
   "id": "585f8485",
   "metadata": {
    "execution": {
     "iopub.execute_input": "2023-12-09T08:26:02.112814Z",
     "iopub.status.busy": "2023-12-09T08:26:02.112435Z",
     "iopub.status.idle": "2023-12-09T08:26:02.150524Z",
     "shell.execute_reply": "2023-12-09T08:26:02.149253Z"
    },
    "papermill": {
     "duration": 0.058818,
     "end_time": "2023-12-09T08:26:02.153144",
     "exception": false,
     "start_time": "2023-12-09T08:26:02.094326",
     "status": "completed"
    },
    "tags": []
   },
   "outputs": [
    {
     "data": {
      "text/plain": [
       "Co_Nm           0\n",
       "Emp_Cnt         0\n",
       "Flw_Cnt         0\n",
       "Job_Ttl         0\n",
       "Is_Supvsr       0\n",
       "max_sal         0\n",
       "med_sal         0\n",
       "min_sal         0\n",
       "py_prd          0\n",
       "wrk_typ         0\n",
       "loc             0\n",
       "st_code         0\n",
       "is_remote       0\n",
       "views           0\n",
       "app_typ         0\n",
       "xp_lvl          0\n",
       "is_sponsored    0\n",
       "base_comp       0\n",
       "dtype: int64"
      ]
     },
     "execution_count": 8,
     "metadata": {},
     "output_type": "execute_result"
    }
   ],
   "source": [
    "df.isnull().sum()"
   ]
  },
  {
   "cell_type": "markdown",
   "id": "ec602a1b",
   "metadata": {
    "papermill": {
     "duration": 0.015941,
     "end_time": "2023-12-09T08:26:02.185240",
     "exception": false,
     "start_time": "2023-12-09T08:26:02.169299",
     "status": "completed"
    },
    "tags": []
   },
   "source": [
    "now we need to check for duplicates"
   ]
  },
  {
   "cell_type": "code",
   "execution_count": 9,
   "id": "bcd19505",
   "metadata": {
    "execution": {
     "iopub.execute_input": "2023-12-09T08:26:02.220449Z",
     "iopub.status.busy": "2023-12-09T08:26:02.220024Z",
     "iopub.status.idle": "2023-12-09T08:26:02.285445Z",
     "shell.execute_reply": "2023-12-09T08:26:02.284390Z"
    },
    "papermill": {
     "duration": 0.086153,
     "end_time": "2023-12-09T08:26:02.288263",
     "exception": false,
     "start_time": "2023-12-09T08:26:02.202110",
     "status": "completed"
    },
    "tags": []
   },
   "outputs": [
    {
     "data": {
      "text/plain": [
       "(193, 18)"
      ]
     },
     "execution_count": 9,
     "metadata": {},
     "output_type": "execute_result"
    }
   ],
   "source": [
    "duplicates = df[df.duplicated()]\n",
    "duplicates.shape"
   ]
  },
  {
   "cell_type": "markdown",
   "id": "a8f89e20",
   "metadata": {
    "papermill": {
     "duration": 0.017437,
     "end_time": "2023-12-09T08:26:02.322453",
     "exception": false,
     "start_time": "2023-12-09T08:26:02.305016",
     "status": "completed"
    },
    "tags": []
   },
   "source": [
    "so we have 193 duplicated row\n",
    "Let's go ahead and drop these duplicate rows"
   ]
  },
  {
   "cell_type": "code",
   "execution_count": 10,
   "id": "9b4e8f3f",
   "metadata": {
    "execution": {
     "iopub.execute_input": "2023-12-09T08:26:02.357518Z",
     "iopub.status.busy": "2023-12-09T08:26:02.357070Z",
     "iopub.status.idle": "2023-12-09T08:26:02.415017Z",
     "shell.execute_reply": "2023-12-09T08:26:02.413766Z"
    },
    "papermill": {
     "duration": 0.078894,
     "end_time": "2023-12-09T08:26:02.417949",
     "exception": false,
     "start_time": "2023-12-09T08:26:02.339055",
     "status": "completed"
    },
    "tags": []
   },
   "outputs": [],
   "source": [
    "df.drop_duplicates(inplace=True)"
   ]
  },
  {
   "cell_type": "code",
   "execution_count": 11,
   "id": "a1d65619",
   "metadata": {
    "execution": {
     "iopub.execute_input": "2023-12-09T08:26:02.453350Z",
     "iopub.status.busy": "2023-12-09T08:26:02.452879Z",
     "iopub.status.idle": "2023-12-09T08:26:02.515636Z",
     "shell.execute_reply": "2023-12-09T08:26:02.513336Z"
    },
    "papermill": {
     "duration": 0.085771,
     "end_time": "2023-12-09T08:26:02.520083",
     "exception": false,
     "start_time": "2023-12-09T08:26:02.434312",
     "status": "completed"
    },
    "tags": []
   },
   "outputs": [
    {
     "data": {
      "text/plain": [
       "(0, 18)"
      ]
     },
     "execution_count": 11,
     "metadata": {},
     "output_type": "execute_result"
    }
   ],
   "source": [
    "df[df.duplicated()].shape"
   ]
  },
  {
   "cell_type": "code",
   "execution_count": 12,
   "id": "6e782444",
   "metadata": {
    "execution": {
     "iopub.execute_input": "2023-12-09T08:26:02.558020Z",
     "iopub.status.busy": "2023-12-09T08:26:02.557621Z",
     "iopub.status.idle": "2023-12-09T08:26:02.564308Z",
     "shell.execute_reply": "2023-12-09T08:26:02.563065Z"
    },
    "papermill": {
     "duration": 0.028082,
     "end_time": "2023-12-09T08:26:02.566879",
     "exception": false,
     "start_time": "2023-12-09T08:26:02.538797",
     "status": "completed"
    },
    "tags": []
   },
   "outputs": [
    {
     "name": "stdout",
     "output_type": "stream",
     "text": [
      "DataFrame Shape After Dropping Duplicates: (33053, 18)\n"
     ]
    }
   ],
   "source": [
    "print(\"DataFrame Shape After Dropping Duplicates:\", df.shape)"
   ]
  },
  {
   "cell_type": "code",
   "execution_count": 13,
   "id": "3abf270e",
   "metadata": {
    "execution": {
     "iopub.execute_input": "2023-12-09T08:26:02.613320Z",
     "iopub.status.busy": "2023-12-09T08:26:02.612723Z",
     "iopub.status.idle": "2023-12-09T08:26:02.645401Z",
     "shell.execute_reply": "2023-12-09T08:26:02.644471Z"
    },
    "papermill": {
     "duration": 0.060371,
     "end_time": "2023-12-09T08:26:02.648910",
     "exception": false,
     "start_time": "2023-12-09T08:26:02.588539",
     "status": "completed"
    },
    "tags": []
   },
   "outputs": [
    {
     "data": {
      "text/html": [
       "<div>\n",
       "<style scoped>\n",
       "    .dataframe tbody tr th:only-of-type {\n",
       "        vertical-align: middle;\n",
       "    }\n",
       "\n",
       "    .dataframe tbody tr th {\n",
       "        vertical-align: top;\n",
       "    }\n",
       "\n",
       "    .dataframe thead th {\n",
       "        text-align: right;\n",
       "    }\n",
       "</style>\n",
       "<table border=\"1\" class=\"dataframe\">\n",
       "  <thead>\n",
       "    <tr style=\"text-align: right;\">\n",
       "      <th></th>\n",
       "      <th>Co_Nm</th>\n",
       "      <th>Emp_Cnt</th>\n",
       "      <th>Flw_Cnt</th>\n",
       "      <th>Job_Ttl</th>\n",
       "      <th>Is_Supvsr</th>\n",
       "      <th>max_sal</th>\n",
       "      <th>med_sal</th>\n",
       "      <th>min_sal</th>\n",
       "      <th>py_prd</th>\n",
       "      <th>wrk_typ</th>\n",
       "      <th>loc</th>\n",
       "      <th>st_code</th>\n",
       "      <th>is_remote</th>\n",
       "      <th>views</th>\n",
       "      <th>app_typ</th>\n",
       "      <th>xp_lvl</th>\n",
       "      <th>is_sponsored</th>\n",
       "      <th>base_comp</th>\n",
       "    </tr>\n",
       "  </thead>\n",
       "  <tbody>\n",
       "    <tr>\n",
       "      <th>0</th>\n",
       "      <td>HearingLife</td>\n",
       "      <td>1171</td>\n",
       "      <td>11417</td>\n",
       "      <td>Hearing Care Provider</td>\n",
       "      <td>False</td>\n",
       "      <td>5250.00</td>\n",
       "      <td>5250.00</td>\n",
       "      <td>5250.00</td>\n",
       "      <td>MONTHLY</td>\n",
       "      <td>Full-time</td>\n",
       "      <td>Little River, SC</td>\n",
       "      <td>SC</td>\n",
       "      <td>0</td>\n",
       "      <td>9</td>\n",
       "      <td>OffsiteApply</td>\n",
       "      <td>Entry level</td>\n",
       "      <td>0</td>\n",
       "      <td>1</td>\n",
       "    </tr>\n",
       "    <tr>\n",
       "      <th>1</th>\n",
       "      <td>Metalcraft of Mayville, Inc.</td>\n",
       "      <td>300</td>\n",
       "      <td>2923</td>\n",
       "      <td>Shipping &amp; Receiving Associate 2nd shift (Beav...</td>\n",
       "      <td>False</td>\n",
       "      <td>0.00</td>\n",
       "      <td>0.00</td>\n",
       "      <td>0.00</td>\n",
       "      <td>Not Listed</td>\n",
       "      <td>Full-time</td>\n",
       "      <td>Beaver Dam, WI</td>\n",
       "      <td>WI</td>\n",
       "      <td>0</td>\n",
       "      <td>0</td>\n",
       "      <td>OffsiteApply</td>\n",
       "      <td>Not Listed</td>\n",
       "      <td>0</td>\n",
       "      <td>0</td>\n",
       "    </tr>\n",
       "    <tr>\n",
       "      <th>2</th>\n",
       "      <td>U.S. Tsubaki Power Transmission, LLC</td>\n",
       "      <td>314</td>\n",
       "      <td>8487</td>\n",
       "      <td>Manager, Engineering</td>\n",
       "      <td>True</td>\n",
       "      <td>0.00</td>\n",
       "      <td>0.00</td>\n",
       "      <td>0.00</td>\n",
       "      <td>Not Listed</td>\n",
       "      <td>Full-time</td>\n",
       "      <td>Bessemer, AL</td>\n",
       "      <td>AL</td>\n",
       "      <td>0</td>\n",
       "      <td>0</td>\n",
       "      <td>OffsiteApply</td>\n",
       "      <td>Not Listed</td>\n",
       "      <td>0</td>\n",
       "      <td>0</td>\n",
       "    </tr>\n",
       "    <tr>\n",
       "      <th>3</th>\n",
       "      <td>Episcopal Communities &amp; Services</td>\n",
       "      <td>36</td>\n",
       "      <td>305</td>\n",
       "      <td>Cook</td>\n",
       "      <td>False</td>\n",
       "      <td>22.27</td>\n",
       "      <td>22.27</td>\n",
       "      <td>22.27</td>\n",
       "      <td>HOURLY</td>\n",
       "      <td>Full-time</td>\n",
       "      <td>Aliso Viejo, CA</td>\n",
       "      <td>CA</td>\n",
       "      <td>0</td>\n",
       "      <td>1</td>\n",
       "      <td>OffsiteApply</td>\n",
       "      <td>Entry level</td>\n",
       "      <td>0</td>\n",
       "      <td>1</td>\n",
       "    </tr>\n",
       "    <tr>\n",
       "      <th>4</th>\n",
       "      <td>iHerb, LLC</td>\n",
       "      <td>1227</td>\n",
       "      <td>51933</td>\n",
       "      <td>Principal Cloud Security Architect (Remote)</td>\n",
       "      <td>False</td>\n",
       "      <td>275834.00</td>\n",
       "      <td>240895.00</td>\n",
       "      <td>205956.00</td>\n",
       "      <td>YEARLY</td>\n",
       "      <td>Full-time</td>\n",
       "      <td>United States</td>\n",
       "      <td>XF</td>\n",
       "      <td>1</td>\n",
       "      <td>0</td>\n",
       "      <td>OffsiteApply</td>\n",
       "      <td>Mid-Senior level</td>\n",
       "      <td>0</td>\n",
       "      <td>1</td>\n",
       "    </tr>\n",
       "  </tbody>\n",
       "</table>\n",
       "</div>"
      ],
      "text/plain": [
       "                                  Co_Nm  Emp_Cnt  Flw_Cnt  \\\n",
       "0                           HearingLife     1171    11417   \n",
       "1          Metalcraft of Mayville, Inc.      300     2923   \n",
       "2  U.S. Tsubaki Power Transmission, LLC      314     8487   \n",
       "3      Episcopal Communities & Services       36      305   \n",
       "4                            iHerb, LLC     1227    51933   \n",
       "\n",
       "                                             Job_Ttl  Is_Supvsr    max_sal  \\\n",
       "0                              Hearing Care Provider      False    5250.00   \n",
       "1  Shipping & Receiving Associate 2nd shift (Beav...      False       0.00   \n",
       "2                               Manager, Engineering       True       0.00   \n",
       "3                                               Cook      False      22.27   \n",
       "4        Principal Cloud Security Architect (Remote)      False  275834.00   \n",
       "\n",
       "     med_sal    min_sal      py_prd    wrk_typ               loc st_code  \\\n",
       "0    5250.00    5250.00     MONTHLY  Full-time  Little River, SC      SC   \n",
       "1       0.00       0.00  Not Listed  Full-time    Beaver Dam, WI      WI   \n",
       "2       0.00       0.00  Not Listed  Full-time      Bessemer, AL      AL   \n",
       "3      22.27      22.27      HOURLY  Full-time   Aliso Viejo, CA      CA   \n",
       "4  240895.00  205956.00      YEARLY  Full-time     United States      XF   \n",
       "\n",
       "   is_remote  views       app_typ            xp_lvl  is_sponsored  base_comp  \n",
       "0          0      9  OffsiteApply       Entry level             0          1  \n",
       "1          0      0  OffsiteApply        Not Listed             0          0  \n",
       "2          0      0  OffsiteApply        Not Listed             0          0  \n",
       "3          0      1  OffsiteApply       Entry level             0          1  \n",
       "4          1      0  OffsiteApply  Mid-Senior level             0          1  "
      ]
     },
     "execution_count": 13,
     "metadata": {},
     "output_type": "execute_result"
    }
   ],
   "source": [
    "df.head()"
   ]
  },
  {
   "cell_type": "code",
   "execution_count": 14,
   "id": "17cc1a63",
   "metadata": {
    "execution": {
     "iopub.execute_input": "2023-12-09T08:26:02.691808Z",
     "iopub.status.busy": "2023-12-09T08:26:02.691418Z",
     "iopub.status.idle": "2023-12-09T08:26:02.742450Z",
     "shell.execute_reply": "2023-12-09T08:26:02.741258Z"
    },
    "papermill": {
     "duration": 0.073092,
     "end_time": "2023-12-09T08:26:02.745098",
     "exception": false,
     "start_time": "2023-12-09T08:26:02.672006",
     "status": "completed"
    },
    "tags": []
   },
   "outputs": [
    {
     "name": "stdout",
     "output_type": "stream",
     "text": [
      "<class 'pandas.core.frame.DataFrame'>\n",
      "Index: 33053 entries, 0 to 33245\n",
      "Data columns (total 18 columns):\n",
      " #   Column        Non-Null Count  Dtype  \n",
      "---  ------        --------------  -----  \n",
      " 0   Co_Nm         33053 non-null  object \n",
      " 1   Emp_Cnt       33053 non-null  int64  \n",
      " 2   Flw_Cnt       33053 non-null  int64  \n",
      " 3   Job_Ttl       33053 non-null  object \n",
      " 4   Is_Supvsr     33053 non-null  bool   \n",
      " 5   max_sal       33053 non-null  float64\n",
      " 6   med_sal       33053 non-null  float64\n",
      " 7   min_sal       33053 non-null  float64\n",
      " 8   py_prd        33053 non-null  object \n",
      " 9   wrk_typ       33053 non-null  object \n",
      " 10  loc           33053 non-null  object \n",
      " 11  st_code       33053 non-null  object \n",
      " 12  is_remote     33053 non-null  int64  \n",
      " 13  views         33053 non-null  int64  \n",
      " 14  app_typ       33053 non-null  object \n",
      " 15  xp_lvl        33053 non-null  object \n",
      " 16  is_sponsored  33053 non-null  int64  \n",
      " 17  base_comp     33053 non-null  int64  \n",
      "dtypes: bool(1), float64(3), int64(6), object(8)\n",
      "memory usage: 4.6+ MB\n"
     ]
    }
   ],
   "source": [
    "#now let's validate the columns we have \n",
    "df.info()"
   ]
  },
  {
   "cell_type": "code",
   "execution_count": 15,
   "id": "2aa7e121",
   "metadata": {
    "execution": {
     "iopub.execute_input": "2023-12-09T08:26:02.784219Z",
     "iopub.status.busy": "2023-12-09T08:26:02.783069Z",
     "iopub.status.idle": "2023-12-09T08:26:02.792515Z",
     "shell.execute_reply": "2023-12-09T08:26:02.790880Z"
    },
    "papermill": {
     "duration": 0.031803,
     "end_time": "2023-12-09T08:26:02.795135",
     "exception": false,
     "start_time": "2023-12-09T08:26:02.763332",
     "status": "completed"
    },
    "tags": []
   },
   "outputs": [
    {
     "name": "stdout",
     "output_type": "stream",
     "text": [
      "Unique values in 'Is_Supvsr': [False  True]\n",
      "Unique values in 'is_sponsored': [0 1]\n",
      "Unique values in 'base_comp': [1 0]\n"
     ]
    }
   ],
   "source": [
    "# Check unique values in boolean columns\n",
    "boolean_columns = ['Is_Supvsr', 'is_sponsored', 'base_comp']\n",
    "\n",
    "for col in boolean_columns:\n",
    "    unique_values = df[col].unique()\n",
    "    print(f\"Unique values in '{col}': {unique_values}\")\n"
   ]
  },
  {
   "cell_type": "code",
   "execution_count": 16,
   "id": "cfc2047c",
   "metadata": {
    "execution": {
     "iopub.execute_input": "2023-12-09T08:26:02.833401Z",
     "iopub.status.busy": "2023-12-09T08:26:02.832959Z",
     "iopub.status.idle": "2023-12-09T08:26:02.843894Z",
     "shell.execute_reply": "2023-12-09T08:26:02.842736Z"
    },
    "papermill": {
     "duration": 0.033357,
     "end_time": "2023-12-09T08:26:02.846656",
     "exception": false,
     "start_time": "2023-12-09T08:26:02.813299",
     "status": "completed"
    },
    "tags": []
   },
   "outputs": [
    {
     "name": "stdout",
     "output_type": "stream",
     "text": [
      "Rows with Invalid Salary Relationships:\n"
     ]
    },
    {
     "data": {
      "text/plain": [
       "0"
      ]
     },
     "execution_count": 16,
     "metadata": {},
     "output_type": "execute_result"
    }
   ],
   "source": [
    "# Check if max_sal is always greater than or equal to min_sal\n",
    "invalid_salaries = df[df['max_sal'] < df['min_sal']]\n",
    "\n",
    "# Display rows with invalid salary relationships (if any)\n",
    "print(\"Rows with Invalid Salary Relationships:\")\n",
    "invalid_salaries.shape[0]"
   ]
  },
  {
   "cell_type": "code",
   "execution_count": 17,
   "id": "1051a548",
   "metadata": {
    "execution": {
     "iopub.execute_input": "2023-12-09T08:26:02.891870Z",
     "iopub.status.busy": "2023-12-09T08:26:02.890860Z",
     "iopub.status.idle": "2023-12-09T08:26:02.904409Z",
     "shell.execute_reply": "2023-12-09T08:26:02.903070Z"
    },
    "papermill": {
     "duration": 0.038807,
     "end_time": "2023-12-09T08:26:02.906987",
     "exception": false,
     "start_time": "2023-12-09T08:26:02.868180",
     "status": "completed"
    },
    "scrolled": true,
    "tags": []
   },
   "outputs": [
    {
     "name": "stdout",
     "output_type": "stream",
     "text": [
      "No negative values found in 'Emp_Cnt'.\n",
      "No negative values found in 'Flw_Cnt'.\n",
      "No negative values found in 'max_sal'.\n",
      "No negative values found in 'med_sal'.\n",
      "No negative values found in 'min_sal'.\n",
      "No negative values found in 'views'.\n"
     ]
    }
   ],
   "source": [
    "# Check for negative values in numerical columns\n",
    "numerical_columns = ['Emp_Cnt', 'Flw_Cnt', 'max_sal', 'med_sal', 'min_sal', 'views']\n",
    "\n",
    "for col in numerical_columns:\n",
    "    negative_values = df[df[col] < 0]\n",
    "    \n",
    "    if not negative_values.empty:\n",
    "        print(f\"Rows with negative values in '{col}':\")\n",
    "        print(negative_values)\n",
    "    else:\n",
    "        print(f\"No negative values found in '{col}'.\")\n"
   ]
  },
  {
   "cell_type": "markdown",
   "id": "7fb9413b",
   "metadata": {
    "papermill": {
     "duration": 0.019641,
     "end_time": "2023-12-09T08:26:02.948567",
     "exception": false,
     "start_time": "2023-12-09T08:26:02.928926",
     "status": "completed"
    },
    "tags": []
   },
   "source": [
    "## Salary Analysis"
   ]
  },
  {
   "cell_type": "code",
   "execution_count": 18,
   "id": "b8f0438b",
   "metadata": {
    "execution": {
     "iopub.execute_input": "2023-12-09T08:26:02.988360Z",
     "iopub.status.busy": "2023-12-09T08:26:02.987937Z",
     "iopub.status.idle": "2023-12-09T08:26:03.045965Z",
     "shell.execute_reply": "2023-12-09T08:26:03.044748Z"
    },
    "papermill": {
     "duration": 0.081657,
     "end_time": "2023-12-09T08:26:03.048960",
     "exception": false,
     "start_time": "2023-12-09T08:26:02.967303",
     "status": "completed"
    },
    "tags": []
   },
   "outputs": [
    {
     "data": {
      "text/html": [
       "<div>\n",
       "<style scoped>\n",
       "    .dataframe tbody tr th:only-of-type {\n",
       "        vertical-align: middle;\n",
       "    }\n",
       "\n",
       "    .dataframe tbody tr th {\n",
       "        vertical-align: top;\n",
       "    }\n",
       "\n",
       "    .dataframe thead th {\n",
       "        text-align: right;\n",
       "    }\n",
       "</style>\n",
       "<table border=\"1\" class=\"dataframe\">\n",
       "  <thead>\n",
       "    <tr style=\"text-align: right;\">\n",
       "      <th></th>\n",
       "      <th>Emp_Cnt</th>\n",
       "      <th>Flw_Cnt</th>\n",
       "      <th>max_sal</th>\n",
       "      <th>med_sal</th>\n",
       "      <th>min_sal</th>\n",
       "      <th>is_remote</th>\n",
       "      <th>views</th>\n",
       "      <th>is_sponsored</th>\n",
       "      <th>base_comp</th>\n",
       "    </tr>\n",
       "  </thead>\n",
       "  <tbody>\n",
       "    <tr>\n",
       "      <th>count</th>\n",
       "      <td>33053.000000</td>\n",
       "      <td>3.305300e+04</td>\n",
       "      <td>3.305300e+04</td>\n",
       "      <td>3.305300e+04</td>\n",
       "      <td>33053.000000</td>\n",
       "      <td>33053.000000</td>\n",
       "      <td>33053.000000</td>\n",
       "      <td>33053.000000</td>\n",
       "      <td>33053.000000</td>\n",
       "    </tr>\n",
       "    <tr>\n",
       "      <th>mean</th>\n",
       "      <td>15516.155054</td>\n",
       "      <td>5.258622e+05</td>\n",
       "      <td>3.197518e+04</td>\n",
       "      <td>2.759430e+04</td>\n",
       "      <td>23213.425817</td>\n",
       "      <td>0.145161</td>\n",
       "      <td>45.685233</td>\n",
       "      <td>0.244758</td>\n",
       "      <td>0.401960</td>\n",
       "    </tr>\n",
       "    <tr>\n",
       "      <th>std</th>\n",
       "      <td>62349.701906</td>\n",
       "      <td>2.716403e+06</td>\n",
       "      <td>6.835578e+04</td>\n",
       "      <td>5.800637e+04</td>\n",
       "      <td>49063.699410</td>\n",
       "      <td>0.352268</td>\n",
       "      <td>127.296793</td>\n",
       "      <td>0.429950</td>\n",
       "      <td>0.490301</td>\n",
       "    </tr>\n",
       "    <tr>\n",
       "      <th>min</th>\n",
       "      <td>0.000000</td>\n",
       "      <td>0.000000e+00</td>\n",
       "      <td>0.000000e+00</td>\n",
       "      <td>0.000000e+00</td>\n",
       "      <td>0.000000</td>\n",
       "      <td>0.000000</td>\n",
       "      <td>0.000000</td>\n",
       "      <td>0.000000</td>\n",
       "      <td>0.000000</td>\n",
       "    </tr>\n",
       "    <tr>\n",
       "      <th>25%</th>\n",
       "      <td>147.000000</td>\n",
       "      <td>8.135000e+03</td>\n",
       "      <td>0.000000e+00</td>\n",
       "      <td>0.000000e+00</td>\n",
       "      <td>0.000000</td>\n",
       "      <td>0.000000</td>\n",
       "      <td>1.000000</td>\n",
       "      <td>0.000000</td>\n",
       "      <td>0.000000</td>\n",
       "    </tr>\n",
       "    <tr>\n",
       "      <th>50%</th>\n",
       "      <td>1229.000000</td>\n",
       "      <td>3.786300e+04</td>\n",
       "      <td>0.000000e+00</td>\n",
       "      <td>0.000000e+00</td>\n",
       "      <td>0.000000</td>\n",
       "      <td>0.000000</td>\n",
       "      <td>8.000000</td>\n",
       "      <td>0.000000</td>\n",
       "      <td>0.000000</td>\n",
       "    </tr>\n",
       "    <tr>\n",
       "      <th>75%</th>\n",
       "      <td>8114.000000</td>\n",
       "      <td>1.687680e+05</td>\n",
       "      <td>1.000000e+02</td>\n",
       "      <td>9.250000e+01</td>\n",
       "      <td>85.000000</td>\n",
       "      <td>0.000000</td>\n",
       "      <td>38.000000</td>\n",
       "      <td>0.000000</td>\n",
       "      <td>1.000000</td>\n",
       "    </tr>\n",
       "    <tr>\n",
       "      <th>max</th>\n",
       "      <td>829111.000000</td>\n",
       "      <td>3.188720e+07</td>\n",
       "      <td>1.300000e+06</td>\n",
       "      <td>1.050000e+06</td>\n",
       "      <td>998426.000000</td>\n",
       "      <td>1.000000</td>\n",
       "      <td>5656.000000</td>\n",
       "      <td>1.000000</td>\n",
       "      <td>1.000000</td>\n",
       "    </tr>\n",
       "  </tbody>\n",
       "</table>\n",
       "</div>"
      ],
      "text/plain": [
       "             Emp_Cnt       Flw_Cnt       max_sal       med_sal        min_sal  \\\n",
       "count   33053.000000  3.305300e+04  3.305300e+04  3.305300e+04   33053.000000   \n",
       "mean    15516.155054  5.258622e+05  3.197518e+04  2.759430e+04   23213.425817   \n",
       "std     62349.701906  2.716403e+06  6.835578e+04  5.800637e+04   49063.699410   \n",
       "min         0.000000  0.000000e+00  0.000000e+00  0.000000e+00       0.000000   \n",
       "25%       147.000000  8.135000e+03  0.000000e+00  0.000000e+00       0.000000   \n",
       "50%      1229.000000  3.786300e+04  0.000000e+00  0.000000e+00       0.000000   \n",
       "75%      8114.000000  1.687680e+05  1.000000e+02  9.250000e+01      85.000000   \n",
       "max    829111.000000  3.188720e+07  1.300000e+06  1.050000e+06  998426.000000   \n",
       "\n",
       "          is_remote         views  is_sponsored     base_comp  \n",
       "count  33053.000000  33053.000000  33053.000000  33053.000000  \n",
       "mean       0.145161     45.685233      0.244758      0.401960  \n",
       "std        0.352268    127.296793      0.429950      0.490301  \n",
       "min        0.000000      0.000000      0.000000      0.000000  \n",
       "25%        0.000000      1.000000      0.000000      0.000000  \n",
       "50%        0.000000      8.000000      0.000000      0.000000  \n",
       "75%        0.000000     38.000000      0.000000      1.000000  \n",
       "max        1.000000   5656.000000      1.000000      1.000000  "
      ]
     },
     "execution_count": 18,
     "metadata": {},
     "output_type": "execute_result"
    }
   ],
   "source": [
    "df.describe()"
   ]
  },
  {
   "cell_type": "markdown",
   "id": "216db388",
   "metadata": {
    "papermill": {
     "duration": 0.01762,
     "end_time": "2023-12-09T08:26:03.085253",
     "exception": false,
     "start_time": "2023-12-09T08:26:03.067633",
     "status": "completed"
    },
    "tags": []
   },
   "source": [
    "#### top 10 job titles with the highest average salaries"
   ]
  },
  {
   "cell_type": "code",
   "execution_count": 19,
   "id": "475231f3",
   "metadata": {
    "execution": {
     "iopub.execute_input": "2023-12-09T08:26:03.123191Z",
     "iopub.status.busy": "2023-12-09T08:26:03.122624Z",
     "iopub.status.idle": "2023-12-09T08:26:03.131779Z",
     "shell.execute_reply": "2023-12-09T08:26:03.130290Z"
    },
    "papermill": {
     "duration": 0.031588,
     "end_time": "2023-12-09T08:26:03.134570",
     "exception": false,
     "start_time": "2023-12-09T08:26:03.102982",
     "status": "completed"
    },
    "tags": []
   },
   "outputs": [],
   "source": [
    "df['avg_sal'] = (df['max_sal'] +df['med_sal']+ df['min_sal']) / 3"
   ]
  },
  {
   "cell_type": "code",
   "execution_count": 20,
   "id": "6be024f3",
   "metadata": {
    "execution": {
     "iopub.execute_input": "2023-12-09T08:26:03.173062Z",
     "iopub.status.busy": "2023-12-09T08:26:03.172619Z",
     "iopub.status.idle": "2023-12-09T08:26:03.234335Z",
     "shell.execute_reply": "2023-12-09T08:26:03.233058Z"
    },
    "papermill": {
     "duration": 0.083799,
     "end_time": "2023-12-09T08:26:03.236977",
     "exception": false,
     "start_time": "2023-12-09T08:26:03.153178",
     "status": "completed"
    },
    "tags": []
   },
   "outputs": [
    {
     "data": {
      "text/plain": [
       "Job_Ttl\n",
       "Quantitative Developer                                               1050000.0\n",
       "Criminal Court Clerk                                                  998426.0\n",
       "Tech Lead Manager (L6-L8) | Disruptive FinTech                        875000.0\n",
       "Fintech Startup | Tech Lead Manager - Software Engineer               800000.0\n",
       "Distinguished Engineer, Trilogy (Remote) - $800,000/year USD          800000.0\n",
       "Chief Software Architect, Trilogy (Remote) - $800,000/year USD        800000.0\n",
       "Head of Sales & Marketing (Healthcare)                                800000.0\n",
       "Registered Nurse or Licensed Practical Nurse - RN or LPN - School     785358.0\n",
       "Director of Product, MyBSWHealth                                      750000.0\n",
       "Urologist                                                             700000.0\n",
       "Name: avg_sal, dtype: float64"
      ]
     },
     "execution_count": 20,
     "metadata": {},
     "output_type": "execute_result"
    }
   ],
   "source": [
    "jobs = df.groupby('Job_Ttl')['avg_sal'].mean()\n",
    "jobs.sort_values(ascending=False).head(10)"
   ]
  },
  {
   "cell_type": "markdown",
   "id": "cfab1bda",
   "metadata": {
    "papermill": {
     "duration": 0.017627,
     "end_time": "2023-12-09T08:26:03.272560",
     "exception": false,
     "start_time": "2023-12-09T08:26:03.254933",
     "status": "completed"
    },
    "tags": []
   },
   "source": [
    "#### Top 10 companies that have the highest number of job postings?"
   ]
  },
  {
   "cell_type": "code",
   "execution_count": 21,
   "id": "78e66b6c",
   "metadata": {
    "execution": {
     "iopub.execute_input": "2023-12-09T08:26:03.318332Z",
     "iopub.status.busy": "2023-12-09T08:26:03.317779Z",
     "iopub.status.idle": "2023-12-09T08:26:03.357755Z",
     "shell.execute_reply": "2023-12-09T08:26:03.355892Z"
    },
    "papermill": {
     "duration": 0.067378,
     "end_time": "2023-12-09T08:26:03.360969",
     "exception": false,
     "start_time": "2023-12-09T08:26:03.293591",
     "status": "completed"
    },
    "tags": []
   },
   "outputs": [
    {
     "data": {
      "text/plain": [
       "Co_Nm\n",
       "Insight Global             217\n",
       "City Lifestyle             198\n",
       "CareerStaff Unlimited      181\n",
       "Aya Healthcare             166\n",
       "Verizon                    154\n",
       "Vivian Health              142\n",
       "Jobot                      125\n",
       "Fusion Medical Staffing    121\n",
       "Cogent Communications      107\n",
       "Google                     107\n",
       "Name: count, dtype: int64"
      ]
     },
     "execution_count": 21,
     "metadata": {},
     "output_type": "execute_result"
    }
   ],
   "source": [
    "# Filter out rows where there is no company page\n",
    "pages = df[df['Co_Nm']!='No Company Page']\n",
    "top_companies = pages['Co_Nm'].value_counts().head(10)\n",
    "top_companies"
   ]
  },
  {
   "cell_type": "markdown",
   "id": "f30e3ccd",
   "metadata": {
    "papermill": {
     "duration": 0.018333,
     "end_time": "2023-12-09T08:26:03.398552",
     "exception": false,
     "start_time": "2023-12-09T08:26:03.380219",
     "status": "completed"
    },
    "tags": []
   },
   "source": [
    "#### what is the average salary of Google job postings"
   ]
  },
  {
   "cell_type": "code",
   "execution_count": 22,
   "id": "5c368110",
   "metadata": {
    "execution": {
     "iopub.execute_input": "2023-12-09T08:26:03.439070Z",
     "iopub.status.busy": "2023-12-09T08:26:03.438284Z",
     "iopub.status.idle": "2023-12-09T08:26:03.453329Z",
     "shell.execute_reply": "2023-12-09T08:26:03.452054Z"
    },
    "papermill": {
     "duration": 0.0374,
     "end_time": "2023-12-09T08:26:03.455990",
     "exception": false,
     "start_time": "2023-12-09T08:26:03.418590",
     "status": "completed"
    },
    "tags": []
   },
   "outputs": [
    {
     "data": {
      "text/plain": [
       "192560.7476635514"
      ]
     },
     "execution_count": 22,
     "metadata": {},
     "output_type": "execute_result"
    }
   ],
   "source": [
    "# Filter rows where the company name is 'Google'\n",
    "google_jobs = df[df['Co_Nm'] == 'Google']\n",
    "\n",
    "# Calculate the average salary for Google job postings\n",
    "google_jobs['avg_sal'].mean()"
   ]
  },
  {
   "cell_type": "markdown",
   "id": "7786b9e2",
   "metadata": {
    "papermill": {
     "duration": 0.018487,
     "end_time": "2023-12-09T08:26:03.492892",
     "exception": false,
     "start_time": "2023-12-09T08:26:03.474405",
     "status": "completed"
    },
    "tags": []
   },
   "source": [
    "#### Determine the most common job titles at Google"
   ]
  },
  {
   "cell_type": "code",
   "execution_count": 23,
   "id": "cda8f43e",
   "metadata": {
    "execution": {
     "iopub.execute_input": "2023-12-09T08:26:03.533209Z",
     "iopub.status.busy": "2023-12-09T08:26:03.532795Z",
     "iopub.status.idle": "2023-12-09T08:26:03.943333Z",
     "shell.execute_reply": "2023-12-09T08:26:03.942447Z"
    },
    "papermill": {
     "duration": 0.433066,
     "end_time": "2023-12-09T08:26:03.945913",
     "exception": false,
     "start_time": "2023-12-09T08:26:03.512847",
     "status": "completed"
    },
    "tags": []
   },
   "outputs": [
    {
     "data": {
      "image/png": "[encoded data removed]",
      "text/plain": [
       "<Figure size 640x480 with 1 Axes>"
      ]
     },
     "metadata": {},
     "output_type": "display_data"
    }
   ],
   "source": [
    "# Get the most common job titles\n",
    "common_job_titles = google_jobs['Job_Ttl'].value_counts().head(5)\n",
    "\n",
    "# Plot a bar chart\n",
    "common_job_titles.plot(kind='bar', color='skyblue')\n",
    "plt.title('Top 10 Most Common Job Titles at Google')\n",
    "plt.ylabel('Frequency')\n",
    "plt.xticks(rotation=45, ha='right')\n",
    "plt.show()"
   ]
  },
  {
   "cell_type": "markdown",
   "id": "5250d291",
   "metadata": {
    "papermill": {
     "duration": 0.019362,
     "end_time": "2023-12-09T08:26:03.986897",
     "exception": false,
     "start_time": "2023-12-09T08:26:03.967535",
     "status": "completed"
    },
    "tags": []
   },
   "source": [
    "#### What is the distribution of salaries for Google job postings?"
   ]
  },
  {
   "cell_type": "code",
   "execution_count": 24,
   "id": "d062b9ba",
   "metadata": {
    "execution": {
     "iopub.execute_input": "2023-12-09T08:26:04.028788Z",
     "iopub.status.busy": "2023-12-09T08:26:04.028368Z",
     "iopub.status.idle": "2023-12-09T08:26:04.368639Z",
     "shell.execute_reply": "2023-12-09T08:26:04.367271Z"
    },
    "papermill": {
     "duration": 0.364887,
     "end_time": "2023-12-09T08:26:04.371563",
     "exception": false,
     "start_time": "2023-12-09T08:26:04.006676",
     "status": "completed"
    },
    "tags": []
   },
   "outputs": [
    {
     "data": {
      "image/png": "[encoded data removed]",
      "text/plain": [
       "<Figure size 640x480 with 1 Axes>"
      ]
     },
     "metadata": {},
     "output_type": "display_data"
    }
   ],
   "source": [
    "plt.hist(google_jobs['avg_sal'], color='skyblue', edgecolor='black')\n",
    "plt.title('Distribution of Salaries for Google Job Postings')\n",
    "plt.xlabel('Average Salary')\n",
    "plt.ylabel('Frequency')\n",
    "plt.xticks(rotation=45, ha='right')\n",
    "plt.show()"
   ]
  },
  {
   "cell_type": "markdown",
   "id": "5fb89466",
   "metadata": {
    "papermill": {
     "duration": 0.020081,
     "end_time": "2023-12-09T08:26:04.411910",
     "exception": false,
     "start_time": "2023-12-09T08:26:04.391829",
     "status": "completed"
    },
    "tags": []
   },
   "source": [
    "#### What is the Distribution of experience level requested by Google in job postings?"
   ]
  },
  {
   "cell_type": "code",
   "execution_count": 25,
   "id": "8a6478cf",
   "metadata": {
    "execution": {
     "iopub.execute_input": "2023-12-09T08:26:04.454955Z",
     "iopub.status.busy": "2023-12-09T08:26:04.454449Z",
     "iopub.status.idle": "2023-12-09T08:26:04.763963Z",
     "shell.execute_reply": "2023-12-09T08:26:04.762235Z"
    },
    "papermill": {
     "duration": 0.334569,
     "end_time": "2023-12-09T08:26:04.767266",
     "exception": false,
     "start_time": "2023-12-09T08:26:04.432697",
     "status": "completed"
    },
    "tags": []
   },
   "outputs": [
    {
     "data": {
      "image/png": "[encoded data removed]",
      "text/plain": [
       "<Figure size 640x480 with 1 Axes>"
      ]
     },
     "metadata": {},
     "output_type": "display_data"
    }
   ],
   "source": [
    "avg_xp_lvl =google_jobs['xp_lvl'].value_counts()\n",
    "avg_xp_lvl.plot(kind='bar', color='orange', edgecolor='black')\n",
    "plt.title('Distribution of experience level requested by Google in job postings')\n",
    "plt.xlabel('Experience level')\n",
    "plt.ylabel('Frequency')\n",
    "plt.xticks(rotation=45, ha='right')\n",
    "plt.show()"
   ]
  },
  {
   "cell_type": "markdown",
   "id": "1259abff",
   "metadata": {
    "papermill": {
     "duration": 0.020692,
     "end_time": "2023-12-09T08:26:04.810435",
     "exception": false,
     "start_time": "2023-12-09T08:26:04.789743",
     "status": "completed"
    },
    "tags": []
   },
   "source": [
    "#### what are the work types for Google job postings"
   ]
  },
  {
   "cell_type": "code",
   "execution_count": 26,
   "id": "c7ba41b8",
   "metadata": {
    "execution": {
     "iopub.execute_input": "2023-12-09T08:26:04.854923Z",
     "iopub.status.busy": "2023-12-09T08:26:04.854454Z",
     "iopub.status.idle": "2023-12-09T08:26:04.862739Z",
     "shell.execute_reply": "2023-12-09T08:26:04.861759Z"
    },
    "papermill": {
     "duration": 0.033011,
     "end_time": "2023-12-09T08:26:04.865216",
     "exception": false,
     "start_time": "2023-12-09T08:26:04.832205",
     "status": "completed"
    },
    "tags": []
   },
   "outputs": [
    {
     "data": {
      "text/plain": [
       "wrk_typ\n",
       "Full-time    107\n",
       "Name: count, dtype: int64"
      ]
     },
     "execution_count": 26,
     "metadata": {},
     "output_type": "execute_result"
    }
   ],
   "source": [
    "work_type_counts = google_jobs['wrk_typ'].value_counts()\n",
    "work_type_counts"
   ]
  },
  {
   "cell_type": "markdown",
   "id": "5118fba5",
   "metadata": {
    "papermill": {
     "duration": 0.022238,
     "end_time": "2023-12-09T08:26:04.908354",
     "exception": false,
     "start_time": "2023-12-09T08:26:04.886116",
     "status": "completed"
    },
    "tags": []
   },
   "source": [
    "#### How does the average salary vary across different job types (Experience Levels) and Pay Periods?"
   ]
  },
  {
   "cell_type": "code",
   "execution_count": 27,
   "id": "7a83c5a6",
   "metadata": {
    "execution": {
     "iopub.execute_input": "2023-12-09T08:26:04.953127Z",
     "iopub.status.busy": "2023-12-09T08:26:04.952754Z",
     "iopub.status.idle": "2023-12-09T08:26:05.031199Z",
     "shell.execute_reply": "2023-12-09T08:26:05.029891Z"
    },
    "papermill": {
     "duration": 0.104056,
     "end_time": "2023-12-09T08:26:05.034071",
     "exception": false,
     "start_time": "2023-12-09T08:26:04.930015",
     "status": "completed"
    },
    "scrolled": true,
    "tags": []
   },
   "outputs": [
    {
     "data": {
      "text/html": [
       "<div>\n",
       "<style scoped>\n",
       "    .dataframe tbody tr th:only-of-type {\n",
       "        vertical-align: middle;\n",
       "    }\n",
       "\n",
       "    .dataframe tbody tr th {\n",
       "        vertical-align: top;\n",
       "    }\n",
       "\n",
       "    .dataframe thead th {\n",
       "        text-align: right;\n",
       "    }\n",
       "</style>\n",
       "<table border=\"1\" class=\"dataframe\">\n",
       "  <thead>\n",
       "    <tr style=\"text-align: right;\">\n",
       "      <th>py_prd</th>\n",
       "      <th>HOURLY</th>\n",
       "      <th>MONTHLY</th>\n",
       "      <th>Not Listed</th>\n",
       "      <th>ONCE</th>\n",
       "      <th>Unpaid</th>\n",
       "      <th>WEEKLY</th>\n",
       "      <th>YEARLY</th>\n",
       "      <th>Total</th>\n",
       "    </tr>\n",
       "    <tr>\n",
       "      <th>xp_lvl</th>\n",
       "      <th></th>\n",
       "      <th></th>\n",
       "      <th></th>\n",
       "      <th></th>\n",
       "      <th></th>\n",
       "      <th></th>\n",
       "      <th></th>\n",
       "      <th></th>\n",
       "    </tr>\n",
       "  </thead>\n",
       "  <tbody>\n",
       "    <tr>\n",
       "      <th>Associate</th>\n",
       "      <td>33.204567</td>\n",
       "      <td>6106.990000</td>\n",
       "      <td>0.0</td>\n",
       "      <td>NaN</td>\n",
       "      <td>0.0</td>\n",
       "      <td>NaN</td>\n",
       "      <td>94077.181175</td>\n",
       "      <td>25765.707289</td>\n",
       "    </tr>\n",
       "    <tr>\n",
       "      <th>Director</th>\n",
       "      <td>8737.765179</td>\n",
       "      <td>3796.500000</td>\n",
       "      <td>0.0</td>\n",
       "      <td>NaN</td>\n",
       "      <td>NaN</td>\n",
       "      <td>NaN</td>\n",
       "      <td>170814.844779</td>\n",
       "      <td>68841.385004</td>\n",
       "    </tr>\n",
       "    <tr>\n",
       "      <th>Entry level</th>\n",
       "      <td>52.882214</td>\n",
       "      <td>4586.530769</td>\n",
       "      <td>0.0</td>\n",
       "      <td>NaN</td>\n",
       "      <td>0.0</td>\n",
       "      <td>1642.212121</td>\n",
       "      <td>86210.242839</td>\n",
       "      <td>11801.593622</td>\n",
       "    </tr>\n",
       "    <tr>\n",
       "      <th>Executive</th>\n",
       "      <td>91.843571</td>\n",
       "      <td>10467.000000</td>\n",
       "      <td>0.0</td>\n",
       "      <td>NaN</td>\n",
       "      <td>0.0</td>\n",
       "      <td>NaN</td>\n",
       "      <td>184566.489231</td>\n",
       "      <td>71307.036469</td>\n",
       "    </tr>\n",
       "    <tr>\n",
       "      <th>Internship</th>\n",
       "      <td>27.107475</td>\n",
       "      <td>9340.000000</td>\n",
       "      <td>0.0</td>\n",
       "      <td>NaN</td>\n",
       "      <td>0.0</td>\n",
       "      <td>NaN</td>\n",
       "      <td>82285.131579</td>\n",
       "      <td>4102.852487</td>\n",
       "    </tr>\n",
       "    <tr>\n",
       "      <th>Mid-Senior level</th>\n",
       "      <td>46.567949</td>\n",
       "      <td>7396.825000</td>\n",
       "      <td>0.0</td>\n",
       "      <td>68.0</td>\n",
       "      <td>0.0</td>\n",
       "      <td>2161.590909</td>\n",
       "      <td>120079.452834</td>\n",
       "      <td>35506.529619</td>\n",
       "    </tr>\n",
       "    <tr>\n",
       "      <th>Not Listed</th>\n",
       "      <td>35.403930</td>\n",
       "      <td>4960.599797</td>\n",
       "      <td>0.0</td>\n",
       "      <td>NaN</td>\n",
       "      <td>0.0</td>\n",
       "      <td>NaN</td>\n",
       "      <td>107749.840009</td>\n",
       "      <td>25563.638910</td>\n",
       "    </tr>\n",
       "    <tr>\n",
       "      <th>Total</th>\n",
       "      <td>92.780397</td>\n",
       "      <td>5621.300757</td>\n",
       "      <td>0.0</td>\n",
       "      <td>68.0</td>\n",
       "      <td>0.0</td>\n",
       "      <td>1939.000000</td>\n",
       "      <td>113993.158160</td>\n",
       "      <td>27594.304552</td>\n",
       "    </tr>\n",
       "  </tbody>\n",
       "</table>\n",
       "</div>"
      ],
      "text/plain": [
       "py_prd                 HOURLY       MONTHLY  Not Listed  ONCE  Unpaid  \\\n",
       "xp_lvl                                                                  \n",
       "Associate           33.204567   6106.990000         0.0   NaN     0.0   \n",
       "Director          8737.765179   3796.500000         0.0   NaN     NaN   \n",
       "Entry level         52.882214   4586.530769         0.0   NaN     0.0   \n",
       "Executive           91.843571  10467.000000         0.0   NaN     0.0   \n",
       "Internship          27.107475   9340.000000         0.0   NaN     0.0   \n",
       "Mid-Senior level    46.567949   7396.825000         0.0  68.0     0.0   \n",
       "Not Listed          35.403930   4960.599797         0.0   NaN     0.0   \n",
       "Total               92.780397   5621.300757         0.0  68.0     0.0   \n",
       "\n",
       "py_prd                 WEEKLY         YEARLY         Total  \n",
       "xp_lvl                                                      \n",
       "Associate                 NaN   94077.181175  25765.707289  \n",
       "Director                  NaN  170814.844779  68841.385004  \n",
       "Entry level       1642.212121   86210.242839  11801.593622  \n",
       "Executive                 NaN  184566.489231  71307.036469  \n",
       "Internship                NaN   82285.131579   4102.852487  \n",
       "Mid-Senior level  2161.590909  120079.452834  35506.529619  \n",
       "Not Listed                NaN  107749.840009  25563.638910  \n",
       "Total             1939.000000  113993.158160  27594.304552  "
      ]
     },
     "execution_count": 27,
     "metadata": {},
     "output_type": "execute_result"
    }
   ],
   "source": [
    "pivot_table = pd.pivot_table(df, values='avg_sal', index='xp_lvl', columns='py_prd', margins=True, margins_name='Total')\n",
    "pivot_table"
   ]
  },
  {
   "cell_type": "markdown",
   "id": "ea81e724",
   "metadata": {
    "papermill": {
     "duration": 0.020992,
     "end_time": "2023-12-09T08:26:05.076511",
     "exception": false,
     "start_time": "2023-12-09T08:26:05.055519",
     "status": "completed"
    },
    "tags": []
   },
   "source": [
    "#### What is the average salary for different work types across different experience levels?"
   ]
  },
  {
   "cell_type": "code",
   "execution_count": 28,
   "id": "d905ad09",
   "metadata": {
    "execution": {
     "iopub.execute_input": "2023-12-09T08:26:05.120604Z",
     "iopub.status.busy": "2023-12-09T08:26:05.120224Z",
     "iopub.status.idle": "2023-12-09T08:26:05.154451Z",
     "shell.execute_reply": "2023-12-09T08:26:05.153238Z"
    },
    "papermill": {
     "duration": 0.059439,
     "end_time": "2023-12-09T08:26:05.157230",
     "exception": false,
     "start_time": "2023-12-09T08:26:05.097791",
     "status": "completed"
    },
    "scrolled": true,
    "tags": []
   },
   "outputs": [
    {
     "data": {
      "text/html": [
       "<div>\n",
       "<style scoped>\n",
       "    .dataframe tbody tr th:only-of-type {\n",
       "        vertical-align: middle;\n",
       "    }\n",
       "\n",
       "    .dataframe tbody tr th {\n",
       "        vertical-align: top;\n",
       "    }\n",
       "\n",
       "    .dataframe thead th {\n",
       "        text-align: right;\n",
       "    }\n",
       "</style>\n",
       "<table border=\"1\" class=\"dataframe\">\n",
       "  <thead>\n",
       "    <tr style=\"text-align: right;\">\n",
       "      <th>wrk_typ</th>\n",
       "      <th>Contract</th>\n",
       "      <th>Full-time</th>\n",
       "      <th>Internship</th>\n",
       "      <th>Other</th>\n",
       "      <th>Part-time</th>\n",
       "      <th>Temporary</th>\n",
       "      <th>Volunteer</th>\n",
       "    </tr>\n",
       "    <tr>\n",
       "      <th>xp_lvl</th>\n",
       "      <th></th>\n",
       "      <th></th>\n",
       "      <th></th>\n",
       "      <th></th>\n",
       "      <th></th>\n",
       "      <th></th>\n",
       "      <th></th>\n",
       "    </tr>\n",
       "  </thead>\n",
       "  <tbody>\n",
       "    <tr>\n",
       "      <th>Associate</th>\n",
       "      <td>3025.165318</td>\n",
       "      <td>30951.142600</td>\n",
       "      <td>0.000000</td>\n",
       "      <td>0.000000</td>\n",
       "      <td>2891.280738</td>\n",
       "      <td>4050.793462</td>\n",
       "      <td>0.0</td>\n",
       "    </tr>\n",
       "    <tr>\n",
       "      <th>Director</th>\n",
       "      <td>28047.879310</td>\n",
       "      <td>69560.540869</td>\n",
       "      <td>73000.000000</td>\n",
       "      <td>130641.000000</td>\n",
       "      <td>105902.755000</td>\n",
       "      <td>56666.666667</td>\n",
       "      <td>NaN</td>\n",
       "    </tr>\n",
       "    <tr>\n",
       "      <th>Entry level</th>\n",
       "      <td>6162.359085</td>\n",
       "      <td>13692.950604</td>\n",
       "      <td>7.356500</td>\n",
       "      <td>13229.674348</td>\n",
       "      <td>635.947684</td>\n",
       "      <td>4923.713714</td>\n",
       "      <td>NaN</td>\n",
       "    </tr>\n",
       "    <tr>\n",
       "      <th>Executive</th>\n",
       "      <td>83.750000</td>\n",
       "      <td>75423.806737</td>\n",
       "      <td>NaN</td>\n",
       "      <td>109277.500000</td>\n",
       "      <td>0.000000</td>\n",
       "      <td>33.032500</td>\n",
       "      <td>0.0</td>\n",
       "    </tr>\n",
       "    <tr>\n",
       "      <th>Internship</th>\n",
       "      <td>18.000000</td>\n",
       "      <td>6327.941100</td>\n",
       "      <td>1576.132381</td>\n",
       "      <td>0.000000</td>\n",
       "      <td>1428.986447</td>\n",
       "      <td>3.187500</td>\n",
       "      <td>NaN</td>\n",
       "    </tr>\n",
       "    <tr>\n",
       "      <th>Mid-Senior level</th>\n",
       "      <td>3864.832248</td>\n",
       "      <td>42797.930351</td>\n",
       "      <td>44917.258500</td>\n",
       "      <td>56701.314815</td>\n",
       "      <td>4653.150015</td>\n",
       "      <td>15891.299359</td>\n",
       "      <td>0.0</td>\n",
       "    </tr>\n",
       "    <tr>\n",
       "      <th>Not Listed</th>\n",
       "      <td>3208.621645</td>\n",
       "      <td>32070.552124</td>\n",
       "      <td>2973.638158</td>\n",
       "      <td>2884.667273</td>\n",
       "      <td>1734.816379</td>\n",
       "      <td>2015.386972</td>\n",
       "      <td>0.0</td>\n",
       "    </tr>\n",
       "  </tbody>\n",
       "</table>\n",
       "</div>"
      ],
      "text/plain": [
       "wrk_typ               Contract     Full-time    Internship          Other  \\\n",
       "xp_lvl                                                                      \n",
       "Associate          3025.165318  30951.142600      0.000000       0.000000   \n",
       "Director          28047.879310  69560.540869  73000.000000  130641.000000   \n",
       "Entry level        6162.359085  13692.950604      7.356500   13229.674348   \n",
       "Executive            83.750000  75423.806737           NaN  109277.500000   \n",
       "Internship           18.000000   6327.941100   1576.132381       0.000000   \n",
       "Mid-Senior level   3864.832248  42797.930351  44917.258500   56701.314815   \n",
       "Not Listed         3208.621645  32070.552124   2973.638158    2884.667273   \n",
       "\n",
       "wrk_typ               Part-time     Temporary  Volunteer  \n",
       "xp_lvl                                                    \n",
       "Associate           2891.280738   4050.793462        0.0  \n",
       "Director          105902.755000  56666.666667        NaN  \n",
       "Entry level          635.947684   4923.713714        NaN  \n",
       "Executive              0.000000     33.032500        0.0  \n",
       "Internship          1428.986447      3.187500        NaN  \n",
       "Mid-Senior level    4653.150015  15891.299359        0.0  \n",
       "Not Listed          1734.816379   2015.386972        0.0  "
      ]
     },
     "execution_count": 28,
     "metadata": {},
     "output_type": "execute_result"
    }
   ],
   "source": [
    "pivot_result = df.pivot_table(index='xp_lvl', columns='wrk_typ', values='avg_sal')\n",
    "pivot_result"
   ]
  },
  {
   "cell_type": "markdown",
   "id": "ea0fbb47",
   "metadata": {
    "papermill": {
     "duration": 0.021456,
     "end_time": "2023-12-09T08:26:05.200533",
     "exception": false,
     "start_time": "2023-12-09T08:26:05.179077",
     "status": "completed"
    },
    "tags": []
   },
   "source": [
    "## Marketing Insights:"
   ]
  },
  {
   "cell_type": "markdown",
   "id": "45132c1a",
   "metadata": {
    "papermill": {
     "duration": 0.02197,
     "end_time": "2023-12-09T08:26:05.244427",
     "exception": false,
     "start_time": "2023-12-09T08:26:05.222457",
     "status": "completed"
    },
    "tags": []
   },
   "source": [
    "#### What is the estimated ratio of views for sponsored posts compared to non-sponsored posts"
   ]
  },
  {
   "cell_type": "code",
   "execution_count": 29,
   "id": "20c79c6e",
   "metadata": {
    "execution": {
     "iopub.execute_input": "2023-12-09T08:26:05.289890Z",
     "iopub.status.busy": "2023-12-09T08:26:05.289427Z",
     "iopub.status.idle": "2023-12-09T08:26:05.298712Z",
     "shell.execute_reply": "2023-12-09T08:26:05.297560Z"
    },
    "papermill": {
     "duration": 0.034515,
     "end_time": "2023-12-09T08:26:05.300995",
     "exception": false,
     "start_time": "2023-12-09T08:26:05.266480",
     "status": "completed"
    },
    "tags": []
   },
   "outputs": [
    {
     "name": "stdout",
     "output_type": "stream",
     "text": [
      "Sponsored posts = 1.53 * non-sponsored posts\n"
     ]
    }
   ],
   "source": [
    "views_comparison = df.groupby(['is_sponsored'])['views'].mean()\n",
    "views_ratio = views_comparison.loc[1] / views_comparison.loc[0]\n",
    "\n",
    "print(f\"Sponsored posts = {views_ratio:.2f} * non-sponsored posts\")"
   ]
  },
  {
   "cell_type": "markdown",
   "id": "410e814f",
   "metadata": {
    "papermill": {
     "duration": 0.02199,
     "end_time": "2023-12-09T08:26:05.344657",
     "exception": false,
     "start_time": "2023-12-09T08:26:05.322667",
     "status": "completed"
    },
    "tags": []
   },
   "source": [
    "#### compare the views per post to the number of followers"
   ]
  },
  {
   "cell_type": "code",
   "execution_count": 30,
   "id": "16ab6af6",
   "metadata": {
    "execution": {
     "iopub.execute_input": "2023-12-09T08:26:05.391084Z",
     "iopub.status.busy": "2023-12-09T08:26:05.390102Z",
     "iopub.status.idle": "2023-12-09T08:26:05.412899Z",
     "shell.execute_reply": "2023-12-09T08:26:05.411551Z"
    },
    "papermill": {
     "duration": 0.049233,
     "end_time": "2023-12-09T08:26:05.416188",
     "exception": false,
     "start_time": "2023-12-09T08:26:05.366955",
     "status": "completed"
    },
    "tags": []
   },
   "outputs": [
    {
     "data": {
      "text/html": [
       "<div>\n",
       "<style scoped>\n",
       "    .dataframe tbody tr th:only-of-type {\n",
       "        vertical-align: middle;\n",
       "    }\n",
       "\n",
       "    .dataframe tbody tr th {\n",
       "        vertical-align: top;\n",
       "    }\n",
       "\n",
       "    .dataframe thead th {\n",
       "        text-align: right;\n",
       "    }\n",
       "</style>\n",
       "<table border=\"1\" class=\"dataframe\">\n",
       "  <thead>\n",
       "    <tr style=\"text-align: right;\">\n",
       "      <th></th>\n",
       "      <th>Co_Nm</th>\n",
       "      <th>views</th>\n",
       "      <th>Flw_Cnt</th>\n",
       "      <th>views_per_follower</th>\n",
       "    </tr>\n",
       "  </thead>\n",
       "  <tbody>\n",
       "    <tr>\n",
       "      <th>0</th>\n",
       "      <td>HearingLife</td>\n",
       "      <td>9</td>\n",
       "      <td>11417</td>\n",
       "      <td>0.000788</td>\n",
       "    </tr>\n",
       "    <tr>\n",
       "      <th>1</th>\n",
       "      <td>Metalcraft of Mayville, Inc.</td>\n",
       "      <td>0</td>\n",
       "      <td>2923</td>\n",
       "      <td>0.000000</td>\n",
       "    </tr>\n",
       "    <tr>\n",
       "      <th>2</th>\n",
       "      <td>U.S. Tsubaki Power Transmission, LLC</td>\n",
       "      <td>0</td>\n",
       "      <td>8487</td>\n",
       "      <td>0.000000</td>\n",
       "    </tr>\n",
       "    <tr>\n",
       "      <th>3</th>\n",
       "      <td>Episcopal Communities &amp; Services</td>\n",
       "      <td>1</td>\n",
       "      <td>305</td>\n",
       "      <td>0.003279</td>\n",
       "    </tr>\n",
       "    <tr>\n",
       "      <th>4</th>\n",
       "      <td>iHerb, LLC</td>\n",
       "      <td>0</td>\n",
       "      <td>51933</td>\n",
       "      <td>0.000000</td>\n",
       "    </tr>\n",
       "    <tr>\n",
       "      <th>...</th>\n",
       "      <td>...</td>\n",
       "      <td>...</td>\n",
       "      <td>...</td>\n",
       "      <td>...</td>\n",
       "    </tr>\n",
       "    <tr>\n",
       "      <th>33241</th>\n",
       "      <td>Crowe</td>\n",
       "      <td>2</td>\n",
       "      <td>134126</td>\n",
       "      <td>0.000015</td>\n",
       "    </tr>\n",
       "    <tr>\n",
       "      <th>33242</th>\n",
       "      <td>Anders Group, LLC</td>\n",
       "      <td>0</td>\n",
       "      <td>6051</td>\n",
       "      <td>0.000000</td>\n",
       "    </tr>\n",
       "    <tr>\n",
       "      <th>33243</th>\n",
       "      <td>Crowe</td>\n",
       "      <td>0</td>\n",
       "      <td>134126</td>\n",
       "      <td>0.000000</td>\n",
       "    </tr>\n",
       "    <tr>\n",
       "      <th>33244</th>\n",
       "      <td>Anders Group, LLC</td>\n",
       "      <td>0</td>\n",
       "      <td>6051</td>\n",
       "      <td>0.000000</td>\n",
       "    </tr>\n",
       "    <tr>\n",
       "      <th>33245</th>\n",
       "      <td>Anders Group, LLC</td>\n",
       "      <td>0</td>\n",
       "      <td>6051</td>\n",
       "      <td>0.000000</td>\n",
       "    </tr>\n",
       "  </tbody>\n",
       "</table>\n",
       "<p>32336 rows × 4 columns</p>\n",
       "</div>"
      ],
      "text/plain": [
       "                                      Co_Nm  views  Flw_Cnt  \\\n",
       "0                               HearingLife      9    11417   \n",
       "1              Metalcraft of Mayville, Inc.      0     2923   \n",
       "2      U.S. Tsubaki Power Transmission, LLC      0     8487   \n",
       "3          Episcopal Communities & Services      1      305   \n",
       "4                                iHerb, LLC      0    51933   \n",
       "...                                     ...    ...      ...   \n",
       "33241                                 Crowe      2   134126   \n",
       "33242                     Anders Group, LLC      0     6051   \n",
       "33243                                 Crowe      0   134126   \n",
       "33244                     Anders Group, LLC      0     6051   \n",
       "33245                     Anders Group, LLC      0     6051   \n",
       "\n",
       "       views_per_follower  \n",
       "0                0.000788  \n",
       "1                0.000000  \n",
       "2                0.000000  \n",
       "3                0.003279  \n",
       "4                0.000000  \n",
       "...                   ...  \n",
       "33241            0.000015  \n",
       "33242            0.000000  \n",
       "33243            0.000000  \n",
       "33244            0.000000  \n",
       "33245            0.000000  \n",
       "\n",
       "[32336 rows x 4 columns]"
      ]
     },
     "execution_count": 30,
     "metadata": {},
     "output_type": "execute_result"
    }
   ],
   "source": [
    "# Create a new DataFrame with 'Co_Nm', 'views', and 'Flw_Cnt'\n",
    "views_followers_df = df[['Co_Nm', 'views', 'Flw_Cnt']].copy()\n",
    "\n",
    "# Drop rows where 'Flw_Cnt' is 0 to avoid division by zero\n",
    "views_followers_df = views_followers_df[views_followers_df['Flw_Cnt'] != 0]\n",
    "\n",
    "# Calculate views per follower and add it to the DataFrame\n",
    "views_followers_df['views_per_follower'] = views_followers_df['views'] / views_followers_df['Flw_Cnt']\n",
    "views_followers_df"
   ]
  },
  {
   "cell_type": "markdown",
   "id": "d1a9c0c2",
   "metadata": {
    "papermill": {
     "duration": 0.022099,
     "end_time": "2023-12-09T08:26:05.461618",
     "exception": false,
     "start_time": "2023-12-09T08:26:05.439519",
     "status": "completed"
    },
    "tags": []
   },
   "source": [
    "#### Top searched job based on number of views "
   ]
  },
  {
   "cell_type": "code",
   "execution_count": 31,
   "id": "d6a14941",
   "metadata": {
    "execution": {
     "iopub.execute_input": "2023-12-09T08:26:05.509742Z",
     "iopub.status.busy": "2023-12-09T08:26:05.509329Z",
     "iopub.status.idle": "2023-12-09T08:26:05.530422Z",
     "shell.execute_reply": "2023-12-09T08:26:05.529346Z"
    },
    "papermill": {
     "duration": 0.048342,
     "end_time": "2023-12-09T08:26:05.533085",
     "exception": false,
     "start_time": "2023-12-09T08:26:05.484743",
     "status": "completed"
    },
    "tags": []
   },
   "outputs": [
    {
     "data": {
      "text/plain": [
       "24096                             Customer Success Manager\n",
       "31932                             Junior Software Engineer\n",
       "24312                                      President / CEO\n",
       "27383                                       Vice President\n",
       "27243                                  Executive Assistant\n",
       "23852                      Customer Service Representative\n",
       "14008                   Director of Information Technology\n",
       "30990    Global Vice President, Channel Sales & Partner...\n",
       "22091                           Talent Acquisition Manager\n",
       "22408               Manager, Workforce Management (Remote)\n",
       "Name: Job_Ttl, dtype: object"
      ]
     },
     "execution_count": 31,
     "metadata": {},
     "output_type": "execute_result"
    }
   ],
   "source": [
    "top_searched_job = pages.sort_values(by='views', ascending=False).head(10)\n",
    "top_searched_job['Job_Ttl']\n"
   ]
  },
  {
   "cell_type": "markdown",
   "id": "b6c5c29b",
   "metadata": {
    "papermill": {
     "duration": 0.02282,
     "end_time": "2023-12-09T08:26:05.578838",
     "exception": false,
     "start_time": "2023-12-09T08:26:05.556018",
     "status": "completed"
    },
    "tags": []
   },
   "source": [
    "#### Display details of the most followed company"
   ]
  },
  {
   "cell_type": "code",
   "execution_count": 32,
   "id": "d101d6ff",
   "metadata": {
    "execution": {
     "iopub.execute_input": "2023-12-09T08:26:05.626347Z",
     "iopub.status.busy": "2023-12-09T08:26:05.625917Z",
     "iopub.status.idle": "2023-12-09T08:26:05.650302Z",
     "shell.execute_reply": "2023-12-09T08:26:05.649049Z"
    },
    "papermill": {
     "duration": 0.051107,
     "end_time": "2023-12-09T08:26:05.653234",
     "exception": false,
     "start_time": "2023-12-09T08:26:05.602127",
     "status": "completed"
    },
    "tags": []
   },
   "outputs": [
    {
     "data": {
      "text/html": [
       "<div>\n",
       "<style scoped>\n",
       "    .dataframe tbody tr th:only-of-type {\n",
       "        vertical-align: middle;\n",
       "    }\n",
       "\n",
       "    .dataframe tbody tr th {\n",
       "        vertical-align: top;\n",
       "    }\n",
       "\n",
       "    .dataframe thead th {\n",
       "        text-align: right;\n",
       "    }\n",
       "</style>\n",
       "<table border=\"1\" class=\"dataframe\">\n",
       "  <thead>\n",
       "    <tr style=\"text-align: right;\">\n",
       "      <th></th>\n",
       "      <th>Co_Nm</th>\n",
       "      <th>Flw_Cnt</th>\n",
       "      <th>avg_sal</th>\n",
       "    </tr>\n",
       "  </thead>\n",
       "  <tbody>\n",
       "    <tr>\n",
       "      <th>4824</th>\n",
       "      <td>Amazon</td>\n",
       "      <td>31887198</td>\n",
       "      <td>156150.0</td>\n",
       "    </tr>\n",
       "  </tbody>\n",
       "</table>\n",
       "</div>"
      ],
      "text/plain": [
       "       Co_Nm   Flw_Cnt   avg_sal\n",
       "4824  Amazon  31887198  156150.0"
      ]
     },
     "execution_count": 32,
     "metadata": {},
     "output_type": "execute_result"
    }
   ],
   "source": [
    "most_followed = pages.nlargest(1, 'Flw_Cnt')\n",
    "\n",
    "most_followed[['Co_Nm', 'Flw_Cnt', 'avg_sal']]\n"
   ]
  },
  {
   "cell_type": "markdown",
   "id": "064264f4",
   "metadata": {
    "papermill": {
     "duration": 0.022735,
     "end_time": "2023-12-09T08:26:05.699585",
     "exception": false,
     "start_time": "2023-12-09T08:26:05.676850",
     "status": "completed"
    },
    "tags": []
   },
   "source": [
    "#### investigate how different application types correlate with the number of views"
   ]
  },
  {
   "cell_type": "code",
   "execution_count": 33,
   "id": "0334dd56",
   "metadata": {
    "execution": {
     "iopub.execute_input": "2023-12-09T08:26:05.748457Z",
     "iopub.status.busy": "2023-12-09T08:26:05.747877Z",
     "iopub.status.idle": "2023-12-09T08:26:06.025968Z",
     "shell.execute_reply": "2023-12-09T08:26:06.024793Z"
    },
    "papermill": {
     "duration": 0.306369,
     "end_time": "2023-12-09T08:26:06.028645",
     "exception": false,
     "start_time": "2023-12-09T08:26:05.722276",
     "status": "completed"
    },
    "tags": []
   },
   "outputs": [
    {
     "data": {
      "image/png": "[encoded data removed]",
      "text/plain": [
       "<Figure size 640x480 with 1 Axes>"
      ]
     },
     "metadata": {},
     "output_type": "display_data"
    }
   ],
   "source": [
    "mean_views = df.groupby('app_typ')['views'].mean().reset_index()\n",
    "mean_views\n",
    "\n",
    "plt.bar(mean_views['app_typ'], mean_views['views'], color='skyblue')\n",
    "plt.title('Application Types and Average Views')\n",
    "plt.xlabel('Application Type')\n",
    "plt.ylabel('Average Views')\n",
    "plt.xticks(rotation=45)\n",
    "plt.show()\n"
   ]
  },
  {
   "cell_type": "markdown",
   "id": "3b8e472c",
   "metadata": {
    "papermill": {
     "duration": 0.023315,
     "end_time": "2023-12-09T08:26:06.076207",
     "exception": false,
     "start_time": "2023-12-09T08:26:06.052892",
     "status": "completed"
    },
    "tags": []
   },
   "source": [
    "# LinkedIn Job Postings Data Analysis Summary\n",
    "\n",
    "### 1. **Data Cleaning:**\n",
    "   - Dropped unnecessary columns, ensuring data relevance.\n",
    "   - Filled null values in the 'Co_Nm' column with \"No Company Name.\"\n",
    "   - Checked for and removed duplicate rows.\n",
    "   - Verified data integrity, handling negative values, and ensuring valid salary relationships.\n",
    "\n",
    "### 2. **Salary Analysis:**\n",
    "   - Calculated 'avg_sal' based on maximum, median, and minimum salaries.\n",
    "   - Identified top 10 job titles with the highest average salaries.\n",
    "   - Explored salary distribution for Google job postings.\n",
    "   - Analyzed experience level distribution at Google.\n",
    "   - Investigated work types for Google job postings.\n",
    "   - Utilized pivot tables to explore salary across different job types and pay periods.\n",
    "\n",
    "### 3. **Marketing Insights:**\n",
    "   - Estimated the ratio of views for sponsored vs. non-sponsored posts.\n",
    "   - Explored correlation between views per post and number of followers.\n",
    "   - Identified top-searched job based on views.\n",
    "   - Displayed details of the most followed company.\n",
    "   - Explored correlation between application types and number of views.\n",
    "   - Visualized relationship between application types and average views.\n",
    "\n",
    "**Conclusion:** This analysis delves into the LinkedIn Job Postings dataset, offering a detailed exploration of salaries, top companies, and marketing insights. It provides valuable information for human resources decisions and marketing strategies."
   ]
  }
 ],
 "metadata": {
  "kaggle": {
   "accelerator": "none",
   "dataSources": [
    {
     "datasetId": 4075603,
     "sourceId": 7076094,
     "sourceType": "datasetVersion"
    }
   ],
   "dockerImageVersionId": 30615,
   "isGpuEnabled": false,
   "isInternetEnabled": false,
   "language": "python",
   "sourceType": "notebook"
  },
  "kernelspec": {
   "display_name": "Python 3",
   "language": "python",
   "name": "python3"
  },
  "language_info": {
   "codemirror_mode": {
    "name": "ipython",
    "version": 3
   },
   "file_extension": ".py",
   "mimetype": "text/x-python",
   "name": "python",
   "nbconvert_exporter": "python",
   "pygments_lexer": "ipython3",
   "version": "3.10.12"
  },
  "papermill": {
   "default_parameters": {},
   "duration": 13.316634,
   "end_time": "2023-12-09T08:26:06.623012",
   "environment_variables": {},
   "exception": null,
   "input_path": "__notebook__.ipynb",
   "output_path": "__notebook__.ipynb",
   "parameters": {},
   "start_time": "2023-12-09T08:25:53.306378",
   "version": "2.4.0"
  }
 },
 "nbformat": 4,
 "nbformat_minor": 5
}
